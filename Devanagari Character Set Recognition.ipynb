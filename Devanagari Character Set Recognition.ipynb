{
  "nbformat": 4,
  "nbformat_minor": 0,
  "metadata": {
    "kernelspec": {
      "display_name": "Python 3",
      "language": "python",
      "name": "python3"
    },
    "colab": {
      "name": "main.ipynb",
      "provenance": [],
      "collapsed_sections": [],
      "include_colab_link": true
    },
    "accelerator": "GPU"
  },
  "cells": [
    {
      "cell_type": "markdown",
      "metadata": {
        "id": "view-in-github",
        "colab_type": "text"
      },
      "source": [
        "<a href=\"https://colab.research.google.com/github/yashgandhijee2018/Fundamentals-of-Machine-Learning/blob/main/Devanagari%20Character%20Set%20Recognition.ipynb\" target=\"_parent\"><img src=\"https://colab.research.google.com/assets/colab-badge.svg\" alt=\"Open In Colab\"/></a>"
      ]
    },
    {
      "cell_type": "code",
      "metadata": {
        "id": "eORo5ygpdTa6",
        "outputId": "000f1667-8ac1-4b13-c660-b23086b0c49b",
        "colab": {
          "base_uri": "https://localhost:8080/",
          "height": 34
        }
      },
      "source": [
        "from google.colab import drive  \n",
        "drive.mount(\"/content/drive/\")"
      ],
      "execution_count": 1,
      "outputs": [
        {
          "output_type": "stream",
          "text": [
            "Drive already mounted at /content/drive/; to attempt to forcibly remount, call drive.mount(\"/content/drive/\", force_remount=True).\n"
          ],
          "name": "stdout"
        }
      ]
    },
    {
      "cell_type": "code",
      "metadata": {
        "id": "sqPmxcDfczKm"
      },
      "source": [
        "#importing necessary libraries\n",
        "import os\n",
        "import keras\n",
        "import matplotlib\n",
        "import numpy as np\n",
        "import skimage.io as io\n",
        "import pandas as pd\n",
        "import matplotlib.pyplot as plt\n",
        "from keras.layers import *\n",
        "from keras.utils import *\n",
        "from keras.optimizers import Adam\n",
        "from keras.models import *\n",
        "from sklearn.model_selection import train_test_split\n",
        "from sklearn.utils import shuffle\n",
        "from sklearn import model_selection"
      ],
      "execution_count": 2,
      "outputs": []
    },
    {
      "cell_type": "code",
      "metadata": {
        "id": "57M_tZiOczKq",
        "outputId": "c77464f6-caf8-4578-c15b-9971a65ec008",
        "colab": {
          "base_uri": "https://localhost:8080/",
          "height": 34
        }
      },
      "source": [
        "# reading data from the disk storage\n",
        "data= pd.read_csv(r'/content/drive/My Drive/devanagari-character-set.csv')\n",
        "data.shape\n",
        "\n",
        "# shape of the data is 92000 images\n",
        "# and each image is 32x32 with 28 pixels of the region representing the actual text\n",
        "# and 4 pixels as padding"
      ],
      "execution_count": 3,
      "outputs": [
        {
          "output_type": "execute_result",
          "data": {
            "text/plain": [
              "(92000, 1025)"
            ]
          },
          "metadata": {
            "tags": []
          },
          "execution_count": 3
        }
      ]
    },
    {
      "cell_type": "markdown",
      "metadata": {
        "id": "xBy3XEQXSDIY"
      },
      "source": [
        "## Data Sampling"
      ]
    },
    {
      "cell_type": "code",
      "metadata": {
        "id": "bcmBk_F9PHJo",
        "outputId": "d35670d4-0d23-4cc3-ab58-1a437119b05d",
        "colab": {
          "base_uri": "https://localhost:8080/",
          "height": 34
        }
      },
      "source": [
        "data=data.sample(n=50000,random_state=6,replace=True)\n",
        "data.shape"
      ],
      "execution_count": 4,
      "outputs": [
        {
          "output_type": "execute_result",
          "data": {
            "text/plain": [
              "(50000, 1025)"
            ]
          },
          "metadata": {
            "tags": []
          },
          "execution_count": 4
        }
      ]
    },
    {
      "cell_type": "code",
      "metadata": {
        "id": "-4bcnxZWczKt",
        "outputId": "41e726db-edb4-448d-d072-bd686dd7891f",
        "colab": {
          "base_uri": "https://localhost:8080/",
          "height": 212
        }
      },
      "source": [
        "# for both our training and testing data\n",
        "#summary of each attribute\n",
        "print(data.describe())"
      ],
      "execution_count": 5,
      "outputs": [
        {
          "output_type": "stream",
          "text": [
            "       pixel_0000  pixel_0001  pixel_0002  ...  pixel_1021  pixel_1022  pixel_1023\n",
            "count     50000.0     50000.0     50000.0  ...     50000.0     50000.0     50000.0\n",
            "mean          0.0         0.0         0.0  ...         0.0         0.0         0.0\n",
            "std           0.0         0.0         0.0  ...         0.0         0.0         0.0\n",
            "min           0.0         0.0         0.0  ...         0.0         0.0         0.0\n",
            "25%           0.0         0.0         0.0  ...         0.0         0.0         0.0\n",
            "50%           0.0         0.0         0.0  ...         0.0         0.0         0.0\n",
            "75%           0.0         0.0         0.0  ...         0.0         0.0         0.0\n",
            "max           0.0         0.0         0.0  ...         0.0         0.0         0.0\n",
            "\n",
            "[8 rows x 1024 columns]\n"
          ],
          "name": "stdout"
        }
      ]
    },
    {
      "cell_type": "code",
      "metadata": {
        "id": "0LswsSdgczKw"
      },
      "source": [
        "#creating a temp type array of our dataset\n",
        "array=data.values\n",
        "#X is for input values and Y is for output given on that input attributes\n",
        "X=array[:,0:1024].astype(float)\n",
        "Y=array[:,1024]"
      ],
      "execution_count": 6,
      "outputs": []
    },
    {
      "cell_type": "markdown",
      "metadata": {
        "id": "7Ltf8tlkczKz"
      },
      "source": [
        "## Preprocessing of Y values"
      ]
    },
    {
      "cell_type": "code",
      "metadata": {
        "id": "-jAQWjApczK0",
        "outputId": "578e11b9-98aa-46ae-948d-db70c27f9a9c",
        "colab": {
          "base_uri": "https://localhost:8080/",
          "height": 34
        }
      },
      "source": [
        "print(Y[0])"
      ],
      "execution_count": 7,
      "outputs": [
        {
          "output_type": "stream",
          "text": [
            "character_16_tabala\n"
          ],
          "name": "stdout"
        }
      ]
    },
    {
      "cell_type": "code",
      "metadata": {
        "id": "KygwQgbLczK2",
        "outputId": "a019b425-fbad-4e70-b76d-195e6d6e6925",
        "colab": {
          "base_uri": "https://localhost:8080/",
          "height": 34
        }
      },
      "source": [
        "#collecting the digit value from Y[i]\n",
        "i=0\n",
        "Y_changed=np.ndarray(Y.shape)\n",
        "for name in Y:\n",
        "    x = name.split('_')\n",
        "    \n",
        "    if(x[0]=='character'):\n",
        "        Y_changed[i]=int(x[1])\n",
        "    elif x[0]=='digit':\n",
        "        Y_changed[i]=(37 + int(x[1]))\n",
        "    i=i+1\n",
        "    \n",
        "# copy the contents of the array to our original array\n",
        "Y=Y_changed\n",
        "\n",
        "#removing the extra elements after memory allocation for numpy array\n",
        "Y=Y[0:50000].copy()\n",
        "print(\"The processed Y shape is \"+str(Y.shape))"
      ],
      "execution_count": 8,
      "outputs": [
        {
          "output_type": "stream",
          "text": [
            "The processed Y shape is (50000,)\n"
          ],
          "name": "stdout"
        }
      ]
    },
    {
      "cell_type": "markdown",
      "metadata": {
        "id": "_r8DJSzAczK5"
      },
      "source": [
        "## Train and Test Split"
      ]
    },
    {
      "cell_type": "code",
      "metadata": {
        "id": "i7vKkhHiczK5"
      },
      "source": [
        "#size of the testing data\n",
        "validation_size=0.20\n",
        "#seed value for keeping same randomness in training and testing dataset\n",
        "seed=6\n",
        "#splitting of the data\n",
        "X_train,X_test,Y_train,Y_test=model_selection.train_test_split(X,Y,test_size=validation_size,random_state=seed)"
      ],
      "execution_count": 9,
      "outputs": []
    },
    {
      "cell_type": "code",
      "metadata": {
        "id": "_lnSZI4-S3h9",
        "outputId": "1793d903-11b2-4076-f9e4-ecd190b854a2",
        "colab": {
          "base_uri": "https://localhost:8080/",
          "height": 34
        }
      },
      "source": [
        "X_test.shape"
      ],
      "execution_count": 10,
      "outputs": [
        {
          "output_type": "execute_result",
          "data": {
            "text/plain": [
              "(10000, 1024)"
            ]
          },
          "metadata": {
            "tags": []
          },
          "execution_count": 10
        }
      ]
    },
    {
      "cell_type": "code",
      "metadata": {
        "id": "Ydr6atFcczK8",
        "outputId": "78c68059-68a2-462c-cc1e-06779c714e94",
        "colab": {
          "base_uri": "https://localhost:8080/",
          "height": 87
        }
      },
      "source": [
        "# reshaping the data in order to convert the given 1D array of an image to actual grid representaion\n",
        "X_train = X_train.reshape((40000,32,32,1))\n",
        "print(X_train.shape)\n",
        "Y_train = Y_train.reshape((40000,1))\n",
        "print(Y_train.shape)\n",
        "X_test = X_test.reshape((10000,32,32,1))\n",
        "print(X_test.shape)\n",
        "Y_test = Y_test.reshape((10000,1))\n",
        "print(Y_test.shape)"
      ],
      "execution_count": 11,
      "outputs": [
        {
          "output_type": "stream",
          "text": [
            "(40000, 32, 32, 1)\n",
            "(40000, 1)\n",
            "(10000, 32, 32, 1)\n",
            "(10000, 1)\n"
          ],
          "name": "stdout"
        }
      ]
    },
    {
      "cell_type": "code",
      "metadata": {
        "id": "CIA0Tuh8czK_",
        "outputId": "8946c12b-a7e8-409c-9215-94f6bd98d4e4",
        "colab": {
          "base_uri": "https://localhost:8080/",
          "height": 72
        }
      },
      "source": [
        "# a reference array for final classification of data\n",
        "reference = {1: 'ka', 2: 'kha', 3: 'ga', 4: 'gha', 5: 'kna', 6: 'cha', 7: 'chha', 8: 'ja', 9: 'jha', 10: 'yna', 11: 'taamatar', 12: 'thaa', 13: 'daa', 14: 'dhaa', 15: 'adna', 16: 'tabala', 17: 'tha', 18: 'da', 19: 'dha', 20: 'na', 21: 'pa', 22: 'pha', 23: 'ba', 24: 'bha', 25: 'ma', 26: 'yaw', 27: 'ra', 28: 'la', 29: 'waw', 30: 'motosaw', 31: 'petchiryakha', 32: 'patalosaw', 33: 'ha', 34: 'chhya', 35: 'tra', 36: 'gya', 37: 0, 38: 1, 39: 2, 40: 3, 41: 4, 42: 5, 43: 6, 44: 7, 45: 8, 46: 9}\n",
        "# to return a group of the key-value \n",
        "# pairs in the dictionary \n",
        "# temp = valid_characters.items() \n",
        "  \n",
        "# # Convert object to a list \n",
        "# data = list(temp) \n",
        "  \n",
        "# # Convert list to an array \n",
        "# reference = np.array(data) \n",
        "\n",
        "# # print the numpy array \n",
        "print(reference)\n",
        "print(type(reference))"
      ],
      "execution_count": 12,
      "outputs": [
        {
          "output_type": "stream",
          "text": [
            "{1: 'ka', 2: 'kha', 3: 'ga', 4: 'gha', 5: 'kna', 6: 'cha', 7: 'chha', 8: 'ja', 9: 'jha', 10: 'yna', 11: 'taamatar', 12: 'thaa', 13: 'daa', 14: 'dhaa', 15: 'adna', 16: 'tabala', 17: 'tha', 18: 'da', 19: 'dha', 20: 'na', 21: 'pa', 22: 'pha', 23: 'ba', 24: 'bha', 25: 'ma', 26: 'yaw', 27: 'ra', 28: 'la', 29: 'waw', 30: 'motosaw', 31: 'petchiryakha', 32: 'patalosaw', 33: 'ha', 34: 'chhya', 35: 'tra', 36: 'gya', 37: 0, 38: 1, 39: 2, 40: 3, 41: 4, 42: 5, 43: 6, 44: 7, 45: 8, 46: 9}\n",
            "<class 'dict'>\n"
          ],
          "name": "stdout"
        }
      ]
    },
    {
      "cell_type": "code",
      "metadata": {
        "id": "EovJNuauczLB"
      },
      "source": [
        "#normalization of data\n",
        "X_train = X_train/255\n",
        "X_test = X_test/255"
      ],
      "execution_count": 13,
      "outputs": []
    },
    {
      "cell_type": "code",
      "metadata": {
        "id": "lhLCCBySczLE"
      },
      "source": [
        "X_train, Y_train = shuffle(X_train, Y_train, random_state = 2)\n",
        "X_test, Y_test = shuffle(X_test, Y_test, random_state = 2)"
      ],
      "execution_count": 14,
      "outputs": []
    },
    {
      "cell_type": "code",
      "metadata": {
        "id": "DCvx8xVpczLG",
        "outputId": "1606044a-4a7c-41c0-e6fa-f3c8925871ef",
        "colab": {
          "base_uri": "https://localhost:8080/",
          "height": 283
        }
      },
      "source": [
        "plt.imshow(np.squeeze(X_test[256]))\n",
        "plt.show()\n",
        "print(reference.get(int(Y_test[256])))"
      ],
      "execution_count": 15,
      "outputs": [
        {
          "output_type": "display_data",
          "data": {
            "image/png": "[encoded data removed]",
            "text/plain": [
              "<Figure size 432x288 with 1 Axes>"
            ]
          },
          "metadata": {
            "tags": [],
            "needs_background": "light"
          }
        },
        {
          "output_type": "stream",
          "text": [
            "petchiryakha\n"
          ],
          "name": "stdout"
        }
      ]
    },
    {
      "cell_type": "code",
      "metadata": {
        "id": "6cKK0GBUczLI",
        "outputId": "f609e872-fdcf-4ab2-d19c-a06e35c7c152",
        "colab": {
          "base_uri": "https://localhost:8080/",
          "height": 283
        }
      },
      "source": [
        "#greyscale image\n",
        "plt.imshow(np.squeeze(X_test[67]),cmap=matplotlib.cm.binary,interpolation=\"nearest\")\n",
        "plt.show()\n",
        "print(reference.get(int(Y_test[67])))"
      ],
      "execution_count": 16,
      "outputs": [
        {
          "output_type": "display_data",
          "data": {
            "image/png": "[encoded data removed]",
            "text/plain": [
              "<Figure size 432x288 with 1 Axes>"
            ]
          },
          "metadata": {
            "tags": [],
            "needs_background": "light"
          }
        },
        {
          "output_type": "stream",
          "text": [
            "patalosaw\n"
          ],
          "name": "stdout"
        }
      ]
    },
    {
      "cell_type": "code",
      "metadata": {
        "id": "kU-0OQSdczLK",
        "outputId": "33b8af5c-664c-4813-8ba1-8d481cef75c1",
        "colab": {
          "base_uri": "https://localhost:8080/",
          "height": 52
        }
      },
      "source": [
        "X_test, X_val, Y_test, Y_val = train_test_split(X_test, Y_test, test_size = 0.6, random_state = 1)\n",
        "print(X_test.shape)\n",
        "print(X_val.shape)"
      ],
      "execution_count": 17,
      "outputs": [
        {
          "output_type": "stream",
          "text": [
            "(4000, 32, 32, 1)\n",
            "(6000, 32, 32, 1)\n"
          ],
          "name": "stdout"
        }
      ]
    },
    {
      "cell_type": "code",
      "metadata": {
        "id": "mk3lj8NKczLN",
        "outputId": "50c42f2c-d986-4837-9d08-7c4e73400cd7",
        "colab": {
          "base_uri": "https://localhost:8080/",
          "height": 34
        }
      },
      "source": [
        "Y_test = to_categorical(Y_test)\n",
        "print(Y_test.shape)"
      ],
      "execution_count": 18,
      "outputs": [
        {
          "output_type": "stream",
          "text": [
            "(4000, 47)\n"
          ],
          "name": "stdout"
        }
      ]
    },
    {
      "cell_type": "code",
      "metadata": {
        "id": "CbobXWMbczLP",
        "outputId": "fcec3d27-c9c5-4685-ca7a-c598be4a737a",
        "colab": {
          "base_uri": "https://localhost:8080/",
          "height": 34
        }
      },
      "source": [
        "Y_val = to_categorical(Y_val)\n",
        "print(Y_val.shape)"
      ],
      "execution_count": 19,
      "outputs": [
        {
          "output_type": "stream",
          "text": [
            "(6000, 47)\n"
          ],
          "name": "stdout"
        }
      ]
    },
    {
      "cell_type": "code",
      "metadata": {
        "id": "BfqWJfxkczLS",
        "outputId": "d6b007ca-79c0-4a57-f93c-ae72d94d1669",
        "colab": {
          "base_uri": "https://localhost:8080/",
          "height": 34
        }
      },
      "source": [
        "Y_train = to_categorical(Y_train)\n",
        "print(Y_train.shape)"
      ],
      "execution_count": 20,
      "outputs": [
        {
          "output_type": "stream",
          "text": [
            "(40000, 47)\n"
          ],
          "name": "stdout"
        }
      ]
    },
    {
      "cell_type": "code",
      "metadata": {
        "id": "7DZbnc2MczLW",
        "outputId": "25211f74-fd81-485f-8941-f59d39fd72de",
        "colab": {
          "base_uri": "https://localhost:8080/",
          "height": 603
        }
      },
      "source": [
        "inputs = Input(shape = (32,32,1))\n",
        "conv1 = Conv2D(64, 3, padding='same', activation='relu')(inputs)\n",
        "conv2 = Conv2D(128, 3, padding='same', activation='relu')(conv1)\n",
        "pool2 = MaxPooling2D((2,2))(conv2)\n",
        "conv3 = Conv2D(128, 3, padding='same', activation='relu')(pool2)\n",
        "conv4 = Conv2D(256, 5, padding='same', activation='relu')(conv3)\n",
        "pool4 = MaxPooling2D((2,2))(conv4)\n",
        "conv5 = Conv2D(256, 5, padding='same', activation='relu')(pool4)\n",
        "flat = Flatten()(conv5)\n",
        "dense0 = Dense(512, activation='relu')(flat)\n",
        "dense1 = Dense(128, activation='relu')(dense0)\n",
        "dense2 = Dense(47, activation='softmax')(dense1)\n",
        "\n",
        "model = Model(inputs, dense2)\n",
        "print(model.summary())"
      ],
      "execution_count": 21,
      "outputs": [
        {
          "output_type": "stream",
          "text": [
            "Model: \"functional_1\"\n",
            "_________________________________________________________________\n",
            "Layer (type)                 Output Shape              Param #   \n",
            "=================================================================\n",
            "input_1 (InputLayer)         [(None, 32, 32, 1)]       0         \n",
            "_________________________________________________________________\n",
            "conv2d (Conv2D)              (None, 32, 32, 64)        640       \n",
            "_________________________________________________________________\n",
            "conv2d_1 (Conv2D)            (None, 32, 32, 128)       73856     \n",
            "_________________________________________________________________\n",
            "max_pooling2d (MaxPooling2D) (None, 16, 16, 128)       0         \n",
            "_________________________________________________________________\n",
            "conv2d_2 (Conv2D)            (None, 16, 16, 128)       147584    \n",
            "_________________________________________________________________\n",
            "conv2d_3 (Conv2D)            (None, 16, 16, 256)       819456    \n",
            "_________________________________________________________________\n",
            "max_pooling2d_1 (MaxPooling2 (None, 8, 8, 256)         0         \n",
            "_________________________________________________________________\n",
            "conv2d_4 (Conv2D)            (None, 8, 8, 256)         1638656   \n",
            "_________________________________________________________________\n",
            "flatten (Flatten)            (None, 16384)             0         \n",
            "_________________________________________________________________\n",
            "dense (Dense)                (None, 512)               8389120   \n",
            "_________________________________________________________________\n",
            "dense_1 (Dense)              (None, 128)               65664     \n",
            "_________________________________________________________________\n",
            "dense_2 (Dense)              (None, 47)                6063      \n",
            "=================================================================\n",
            "Total params: 11,141,039\n",
            "Trainable params: 11,141,039\n",
            "Non-trainable params: 0\n",
            "_________________________________________________________________\n",
            "None\n"
          ],
          "name": "stdout"
        }
      ]
    },
    {
      "cell_type": "code",
      "metadata": {
        "id": "Ef1JjIqVczLY",
        "outputId": "1683e96e-00ba-49cd-f6de-d5240a70846c",
        "colab": {
          "base_uri": "https://localhost:8080/",
          "height": 427
        }
      },
      "source": [
        "model.compile(Adam(lr = 10e-4), loss = 'categorical_crossentropy', metrics = ['accuracy'])\n",
        "history = model.fit(X_train, Y_train, epochs = 10, batch_size = 400, validation_data = (X_val, Y_val), verbose = 1)"
      ],
      "execution_count": 22,
      "outputs": [
        {
          "output_type": "stream",
          "text": [
            "Epoch 1/10\n",
            "  2/100 [..............................] - ETA: 5s - loss: 3.8619 - accuracy: 0.0175WARNING:tensorflow:Callbacks method `on_train_batch_end` is slow compared to the batch time (batch time: 0.0358s vs `on_train_batch_end` time: 0.0749s). Check your callbacks.\n",
            "100/100 [==============================] - ETA: 0s - loss: 1.2162 - accuracy: 0.6711WARNING:tensorflow:Callbacks method `on_test_batch_end` is slow compared to the batch time (batch time: 0.0029s vs `on_test_batch_end` time: 0.0328s). Check your callbacks.\n",
            "100/100 [==============================] - 12s 118ms/step - loss: 1.2162 - accuracy: 0.6711 - val_loss: 0.2795 - val_accuracy: 0.9233\n",
            "Epoch 2/10\n",
            "100/100 [==============================] - 12s 118ms/step - loss: 0.1420 - accuracy: 0.9568 - val_loss: 0.1129 - val_accuracy: 0.9687\n",
            "Epoch 3/10\n",
            "100/100 [==============================] - 12s 120ms/step - loss: 0.0566 - accuracy: 0.9823 - val_loss: 0.0929 - val_accuracy: 0.9738\n",
            "Epoch 4/10\n",
            "100/100 [==============================] - 12s 122ms/step - loss: 0.0301 - accuracy: 0.9904 - val_loss: 0.0916 - val_accuracy: 0.9770\n",
            "Epoch 5/10\n",
            "100/100 [==============================] - 12s 123ms/step - loss: 0.0266 - accuracy: 0.9917 - val_loss: 0.1066 - val_accuracy: 0.9757\n",
            "Epoch 6/10\n",
            "100/100 [==============================] - 13s 126ms/step - loss: 0.0199 - accuracy: 0.9935 - val_loss: 0.0856 - val_accuracy: 0.9805\n",
            "Epoch 7/10\n",
            "100/100 [==============================] - 13s 128ms/step - loss: 0.0165 - accuracy: 0.9946 - val_loss: 0.0891 - val_accuracy: 0.9815\n",
            "Epoch 8/10\n",
            "100/100 [==============================] - 13s 128ms/step - loss: 0.0149 - accuracy: 0.9955 - val_loss: 0.0794 - val_accuracy: 0.9813\n",
            "Epoch 9/10\n",
            "100/100 [==============================] - 13s 131ms/step - loss: 0.0137 - accuracy: 0.9960 - val_loss: 0.0926 - val_accuracy: 0.9812\n",
            "Epoch 10/10\n",
            "100/100 [==============================] - 14s 135ms/step - loss: 0.0132 - accuracy: 0.9960 - val_loss: 0.0966 - val_accuracy: 0.9782\n"
          ],
          "name": "stdout"
        }
      ]
    },
    {
      "cell_type": "code",
      "metadata": {
        "id": "lMOiLp7xczLb",
        "outputId": "2c55f4fa-1654-4a6e-b554-d7f7c1403d82",
        "colab": {
          "base_uri": "https://localhost:8080/",
          "height": 264
        }
      },
      "source": [
        "\n",
        "fig, ax = plt.subplots(2,1)\n",
        "ax[0].plot(history.history['loss'], color='b', label=\"Training loss\")\n",
        "ax[0].plot(history.history['val_loss'], color='r', label=\"validation loss\",axes =ax[0])\n",
        "legend = ax[0].legend(loc='best', shadow=True)\n",
        "\n",
        "ax[1].plot(history.history['accuracy'], color='b', label=\"Training accuracy\")\n",
        "ax[1].plot(history.history['val_accuracy'], color='r',label=\"Validation accuracy\")\n",
        "legend = ax[1].legend(loc='best', shadow=False)"
      ],
      "execution_count": 23,
      "outputs": [
        {
          "output_type": "display_data",
          "data": {
            "image/png": "[encoded data removed]",
            "text/plain": [
              "<Figure size 432x288 with 2 Axes>"
            ]
          },
          "metadata": {
            "tags": [],
            "needs_background": "light"
          }
        }
      ]
    },
    {
      "cell_type": "code",
      "metadata": {
        "id": "VHHdk9yIczLd"
      },
      "source": [
        "model.save(\"/content/drive/My Drive/Model_1.h5\")"
      ],
      "execution_count": 24,
      "outputs": []
    },
    {
      "cell_type": "code",
      "metadata": {
        "id": "1hyK9H7YczLg",
        "outputId": "8bd3bc5e-997a-4d72-de83-b2e5d0684adc",
        "colab": {
          "base_uri": "https://localhost:8080/",
          "height": 90
        }
      },
      "source": [
        "model.evaluate(X_test, Y_test, batch_size = 400, verbose =1)"
      ],
      "execution_count": 25,
      "outputs": [
        {
          "output_type": "stream",
          "text": [
            " 1/10 [==>...........................] - ETA: 0s - loss: 0.1215 - accuracy: 0.9625WARNING:tensorflow:Callbacks method `on_test_batch_end` is slow compared to the batch time (batch time: 0.0046s vs `on_test_batch_end` time: 0.0349s). Check your callbacks.\n",
            "10/10 [==============================] - 0s 40ms/step - loss: 0.1112 - accuracy: 0.9762\n"
          ],
          "name": "stdout"
        },
        {
          "output_type": "execute_result",
          "data": {
            "text/plain": [
              "[0.11123406887054443, 0.9762499928474426]"
            ]
          },
          "metadata": {
            "tags": []
          },
          "execution_count": 25
        }
      ]
    },
    {
      "cell_type": "code",
      "metadata": {
        "id": "aeUqSbGCm4q9",
        "outputId": "b6094814-a20f-4979-87b7-ac7ef3aba08f",
        "colab": {
          "base_uri": "https://localhost:8080/",
          "height": 72
        }
      },
      "source": [
        "predicted = model.predict(x = X_test, verbose = 1)"
      ],
      "execution_count": 26,
      "outputs": [
        {
          "output_type": "stream",
          "text": [
            "  1/125 [..............................] - ETA: 0sWARNING:tensorflow:Callbacks method `on_predict_batch_end` is slow compared to the batch time (batch time: 0.0017s vs `on_predict_batch_end` time: 0.0046s). Check your callbacks.\n",
            "125/125 [==============================] - 1s 5ms/step\n"
          ],
          "name": "stdout"
        }
      ]
    },
    {
      "cell_type": "code",
      "metadata": {
        "id": "tw4nOxf9o65p",
        "outputId": "3e32d793-1c33-4520-c039-82237bf48007",
        "colab": {
          "base_uri": "https://localhost:8080/",
          "height": 34
        }
      },
      "source": [
        "predicted.shape\n"
      ],
      "execution_count": 27,
      "outputs": [
        {
          "output_type": "execute_result",
          "data": {
            "text/plain": [
              "(4000, 47)"
            ]
          },
          "metadata": {
            "tags": []
          },
          "execution_count": 27
        }
      ]
    },
    {
      "cell_type": "code",
      "metadata": {
        "id": "tZB22G0tnKQa",
        "outputId": "c5c66bd3-d7fb-4af1-db26-a62177dfcdff",
        "colab": {
          "base_uri": "https://localhost:8080/",
          "height": 283
        }
      },
      "source": [
        "index = 57\n",
        "img = X_test[index]\n",
        "img = img.reshape((32,32))\n",
        "plt.imshow(img)\n",
        "predicted = np.argmax(predicted, axis = 1)\n",
        "print(reference[predicted[index]])"
      ],
      "execution_count": 28,
      "outputs": [
        {
          "output_type": "stream",
          "text": [
            "ka\n"
          ],
          "name": "stdout"
        },
        {
          "output_type": "display_data",
          "data": {
            "image/png": "[encoded data removed]",
            "text/plain": [
              "<Figure size 432x288 with 1 Axes>"
            ]
          },
          "metadata": {
            "tags": [],
            "needs_background": "light"
          }
        }
      ]
    },
    {
      "cell_type": "code",
      "metadata": {
        "id": "yw6H8l5xoCvA",
        "outputId": "5e72b7cb-8b5b-48cc-934e-42b31aa515c6",
        "colab": {
          "base_uri": "https://localhost:8080/",
          "height": 34
        }
      },
      "source": [
        "predicted"
      ],
      "execution_count": 29,
      "outputs": [
        {
          "output_type": "execute_result",
          "data": {
            "text/plain": [
              "array([26, 27, 15, ...,  5, 18, 13])"
            ]
          },
          "metadata": {
            "tags": []
          },
          "execution_count": 29
        }
      ]
    },
    {
      "cell_type": "code",
      "metadata": {
        "id": "qOKYMd49yycE"
      },
      "source": [
        ""
      ],
      "execution_count": 29,
      "outputs": []
    }
  ]
}