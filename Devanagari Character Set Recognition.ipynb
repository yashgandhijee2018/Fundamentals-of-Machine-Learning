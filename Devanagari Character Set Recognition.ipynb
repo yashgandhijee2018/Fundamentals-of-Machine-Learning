{
  "nbformat": 4,
  "nbformat_minor": 0,
  "metadata": {
    "kernelspec": {
      "display_name": "Python 3",
      "language": "python",
      "name": "python3"
    },
    "colab": {
      "name": "main.ipynb",
      "provenance": [],
      "collapsed_sections": [],
      "toc_visible": true,
      "include_colab_link": true
    },
    "accelerator": "GPU"
  },
  "cells": [
    {
      "cell_type": "markdown",
      "metadata": {
        "id": "view-in-github",
        "colab_type": "text"
      },
      "source": [
        "<a href=\"https://colab.research.google.com/github/yashgandhijee2018/Fundamentals-of-Machine-Learning/blob/main/Devanagari%20Character%20Set%20Recognition.ipynb\" target=\"_parent\"><img src=\"https://colab.research.google.com/assets/colab-badge.svg\" alt=\"Open In Colab\"/></a>"
      ]
    },
    {
      "cell_type": "code",
      "metadata": {
        "id": "eORo5ygpdTa6",
        "outputId": "dd87a9d4-add6-4e7a-815a-ef1c2faa730f",
        "colab": {
          "base_uri": "https://localhost:8080/",
          "height": 34
        }
      },
      "source": [
        "from google.colab import drive  \n",
        "drive.mount(\"/content/drive/\")"
      ],
      "execution_count": 1,
      "outputs": [
        {
          "output_type": "stream",
          "text": [
            "Drive already mounted at /content/drive/; to attempt to forcibly remount, call drive.mount(\"/content/drive/\", force_remount=True).\n"
          ],
          "name": "stdout"
        }
      ]
    },
    {
      "cell_type": "code",
      "metadata": {
        "id": "sqPmxcDfczKm"
      },
      "source": [
        "#importing necessary libraries\n",
        "import os\n",
        "import keras\n",
        "import matplotlib\n",
        "import numpy as np\n",
        "import skimage.io as io\n",
        "import pandas as pd\n",
        "import matplotlib.pyplot as plt\n",
        "from keras.layers import *\n",
        "from keras.utils import *\n",
        "from keras.optimizers import Adam\n",
        "from keras.models import *\n",
        "from sklearn.model_selection import train_test_split\n",
        "from sklearn.utils import shuffle\n",
        "from sklearn import model_selection"
      ],
      "execution_count": 2,
      "outputs": []
    },
    {
      "cell_type": "code",
      "metadata": {
        "id": "57M_tZiOczKq",
        "outputId": "eb008551-4361-41ae-c6b2-aa9214c63284",
        "colab": {
          "base_uri": "https://localhost:8080/",
          "height": 34
        }
      },
      "source": [
        "# reading data from the disk storage\n",
        "data= pd.read_csv(r'/content/drive/My Drive/devanagari-character-set.csv')\n",
        "data.shape\n",
        "\n",
        "# shape of the data is 92000 images\n",
        "# and each image is 32x32 with 28 pixels of the region representing the actual text\n",
        "# and 4 pixels as padding"
      ],
      "execution_count": 3,
      "outputs": [
        {
          "output_type": "execute_result",
          "data": {
            "text/plain": [
              "(92000, 1025)"
            ]
          },
          "metadata": {
            "tags": []
          },
          "execution_count": 3
        }
      ]
    },
    {
      "cell_type": "code",
      "metadata": {
        "id": "bcmBk_F9PHJo",
        "outputId": "e39ae69f-5d38-4390-af71-4710b5b3b459",
        "colab": {
          "base_uri": "https://localhost:8080/",
          "height": 34
        }
      },
      "source": [
        "# data=data.sample(n=50000,random_state=6,replace=True)\n",
        "# data.shape\n",
        "size=data.shape[0]\n",
        "print(\"The size of our dataset is \"+str(size))"
      ],
      "execution_count": 4,
      "outputs": [
        {
          "output_type": "stream",
          "text": [
            "The size of our dataset is 92000\n"
          ],
          "name": "stdout"
        }
      ]
    },
    {
      "cell_type": "code",
      "metadata": {
        "id": "-4bcnxZWczKt",
        "outputId": "9e2716d4-75de-4dcf-c5c0-cbc87b153655",
        "colab": {
          "base_uri": "https://localhost:8080/",
          "height": 212
        }
      },
      "source": [
        "# for both our training and testing data\n",
        "#summary of each attribute\n",
        "print(data.describe())"
      ],
      "execution_count": 5,
      "outputs": [
        {
          "output_type": "stream",
          "text": [
            "       pixel_0000  pixel_0001  pixel_0002  ...  pixel_1021  pixel_1022  pixel_1023\n",
            "count     92000.0     92000.0     92000.0  ...     92000.0     92000.0     92000.0\n",
            "mean          0.0         0.0         0.0  ...         0.0         0.0         0.0\n",
            "std           0.0         0.0         0.0  ...         0.0         0.0         0.0\n",
            "min           0.0         0.0         0.0  ...         0.0         0.0         0.0\n",
            "25%           0.0         0.0         0.0  ...         0.0         0.0         0.0\n",
            "50%           0.0         0.0         0.0  ...         0.0         0.0         0.0\n",
            "75%           0.0         0.0         0.0  ...         0.0         0.0         0.0\n",
            "max           0.0         0.0         0.0  ...         0.0         0.0         0.0\n",
            "\n",
            "[8 rows x 1024 columns]\n"
          ],
          "name": "stdout"
        }
      ]
    },
    {
      "cell_type": "code",
      "metadata": {
        "id": "0LswsSdgczKw"
      },
      "source": [
        "#creating a temp type array of our dataset\n",
        "array=data.values\n",
        "#X is for input values and Y is for output given on that input attributes\n",
        "X=array[:,0:1024].astype(float)\n",
        "Y=array[:,1024]"
      ],
      "execution_count": 6,
      "outputs": []
    },
    {
      "cell_type": "markdown",
      "metadata": {
        "id": "7Ltf8tlkczKz"
      },
      "source": [
        "## Preprocessing of Y values"
      ]
    },
    {
      "cell_type": "code",
      "metadata": {
        "id": "-jAQWjApczK0",
        "outputId": "d8eff716-630c-432a-abfd-19ab494f83f8",
        "colab": {
          "base_uri": "https://localhost:8080/",
          "height": 34
        }
      },
      "source": [
        "print(Y[0])"
      ],
      "execution_count": 7,
      "outputs": [
        {
          "output_type": "stream",
          "text": [
            "character_01_ka\n"
          ],
          "name": "stdout"
        }
      ]
    },
    {
      "cell_type": "code",
      "metadata": {
        "id": "KygwQgbLczK2",
        "outputId": "ad645a67-f201-49b3-eec9-ee683cf85fb4",
        "colab": {
          "base_uri": "https://localhost:8080/",
          "height": 34
        }
      },
      "source": [
        "#collecting the digit value from Y[i]\n",
        "i=0\n",
        "Y_changed=np.ndarray(Y.shape)\n",
        "for name in Y:\n",
        "    x = name.split('_')\n",
        "    \n",
        "    if(x[0]=='character'):\n",
        "        Y_changed[i]=int(x[1])\n",
        "    elif x[0]=='digit':\n",
        "        Y_changed[i]=(37 + int(x[1]))\n",
        "    i=i+1\n",
        "    \n",
        "# copy the contents of the array to our original array\n",
        "Y=Y_changed\n",
        "\n",
        "#removing the extra elements after memory allocation for numpy array\n",
        "Y=Y[0:size].copy()\n",
        "print(\"The processed Y shape is \"+str(Y.shape))"
      ],
      "execution_count": 8,
      "outputs": [
        {
          "output_type": "stream",
          "text": [
            "The processed Y shape is (92000,)\n"
          ],
          "name": "stdout"
        }
      ]
    },
    {
      "cell_type": "markdown",
      "metadata": {
        "id": "_r8DJSzAczK5"
      },
      "source": [
        "## Train and Test Split"
      ]
    },
    {
      "cell_type": "code",
      "metadata": {
        "id": "i7vKkhHiczK5"
      },
      "source": [
        "#size of the testing data\n",
        "validation_size=0.20\n",
        "#seed value for keeping same randomness in training and testing dataset\n",
        "seed=6\n",
        "#splitting of the data\n",
        "X_train,X_test,Y_train,Y_test=model_selection.train_test_split(X,Y,test_size=validation_size,random_state=seed)"
      ],
      "execution_count": 9,
      "outputs": []
    },
    {
      "cell_type": "code",
      "metadata": {
        "id": "_lnSZI4-S3h9",
        "outputId": "a359b4b3-5909-4037-87df-1486593d1e8c",
        "colab": {
          "base_uri": "https://localhost:8080/",
          "height": 34
        }
      },
      "source": [
        "X_test.shape"
      ],
      "execution_count": 10,
      "outputs": [
        {
          "output_type": "execute_result",
          "data": {
            "text/plain": [
              "(18400, 1024)"
            ]
          },
          "metadata": {
            "tags": []
          },
          "execution_count": 10
        }
      ]
    },
    {
      "cell_type": "code",
      "metadata": {
        "id": "Ydr6atFcczK8",
        "outputId": "c88cfa9f-140b-4c27-c37c-e0db920ed90a",
        "colab": {
          "base_uri": "https://localhost:8080/",
          "height": 87
        }
      },
      "source": [
        "# reshaping the data in order to convert the given 1D array of an image to actual grid representaion\n",
        "X_train = X_train.reshape((size*4)//5,32,32,1)\n",
        "print(X_train.shape)\n",
        "Y_train = Y_train.reshape((size*4)//5,1)\n",
        "print(Y_train.shape)\n",
        "X_test = X_test.reshape(size//5,32,32,1)\n",
        "print(X_test.shape)\n",
        "Y_test = Y_test.reshape(size//5,1)\n",
        "print(Y_test.shape)"
      ],
      "execution_count": 11,
      "outputs": [
        {
          "output_type": "stream",
          "text": [
            "(73600, 32, 32, 1)\n",
            "(73600, 1)\n",
            "(18400, 32, 32, 1)\n",
            "(18400, 1)\n"
          ],
          "name": "stdout"
        }
      ]
    },
    {
      "cell_type": "code",
      "metadata": {
        "id": "CIA0Tuh8czK_",
        "outputId": "e7f3ad0b-a302-4979-eb8f-f1c6bba73b05",
        "colab": {
          "base_uri": "https://localhost:8080/",
          "height": 72
        }
      },
      "source": [
        "# a reference array for final classification of data\n",
        "reference = {1: 'ka', 2: 'kha', 3: 'ga', 4: 'gha', 5: 'kna', 6: 'cha', 7: 'chha', 8: 'ja', 9: 'jha', 10: 'yna', 11: 'taamatar', 12: 'thaa', 13: 'daa', 14: 'dhaa', 15: 'adna', 16: 'tabala', 17: 'tha', 18: 'da', 19: 'dha', 20: 'na', 21: 'pa', 22: 'pha', 23: 'ba', 24: 'bha', 25: 'ma', 26: 'yaw', 27: 'ra', 28: 'la', 29: 'waw', 30: 'motosaw', 31: 'petchiryakha', 32: 'patalosaw', 33: 'ha', 34: 'chhya', 35: 'tra', 36: 'gya', 37: 0, 38: 1, 39: 2, 40: 3, 41: 4, 42: 5, 43: 6, 44: 7, 45: 8, 46: 9}\n",
        "# to return a group of the key-value \n",
        "# pairs in the dictionary \n",
        "# temp = valid_characters.items() \n",
        "  \n",
        "# # Convert object to a list \n",
        "# data = list(temp) \n",
        "  \n",
        "# # Convert list to an array \n",
        "# reference = np.array(data) \n",
        "\n",
        "# # print the numpy array \n",
        "print(reference)\n",
        "print(type(reference))"
      ],
      "execution_count": 12,
      "outputs": [
        {
          "output_type": "stream",
          "text": [
            "{1: 'ka', 2: 'kha', 3: 'ga', 4: 'gha', 5: 'kna', 6: 'cha', 7: 'chha', 8: 'ja', 9: 'jha', 10: 'yna', 11: 'taamatar', 12: 'thaa', 13: 'daa', 14: 'dhaa', 15: 'adna', 16: 'tabala', 17: 'tha', 18: 'da', 19: 'dha', 20: 'na', 21: 'pa', 22: 'pha', 23: 'ba', 24: 'bha', 25: 'ma', 26: 'yaw', 27: 'ra', 28: 'la', 29: 'waw', 30: 'motosaw', 31: 'petchiryakha', 32: 'patalosaw', 33: 'ha', 34: 'chhya', 35: 'tra', 36: 'gya', 37: 0, 38: 1, 39: 2, 40: 3, 41: 4, 42: 5, 43: 6, 44: 7, 45: 8, 46: 9}\n",
            "<class 'dict'>\n"
          ],
          "name": "stdout"
        }
      ]
    },
    {
      "cell_type": "code",
      "metadata": {
        "id": "EovJNuauczLB"
      },
      "source": [
        "#normalization of data\n",
        "X_train = X_train/255\n",
        "X_test = X_test/255"
      ],
      "execution_count": 13,
      "outputs": []
    },
    {
      "cell_type": "code",
      "metadata": {
        "id": "lhLCCBySczLE"
      },
      "source": [
        "X_train, Y_train = shuffle(X_train, Y_train, random_state = 2)\n",
        "X_test, Y_test = shuffle(X_test, Y_test, random_state = 2)"
      ],
      "execution_count": 14,
      "outputs": []
    },
    {
      "cell_type": "code",
      "metadata": {
        "id": "DCvx8xVpczLG",
        "outputId": "78beec31-e26e-446d-af2d-3463a46d2fe5",
        "colab": {
          "base_uri": "https://localhost:8080/",
          "height": 283
        }
      },
      "source": [
        "plt.imshow(np.squeeze(X_test[256]))\n",
        "plt.show()\n",
        "print(reference.get(int(Y_test[256])))"
      ],
      "execution_count": 15,
      "outputs": [
        {
          "output_type": "display_data",
          "data": {
            "image/png": "[encoded data removed]",
            "text/plain": [
              "<Figure size 432x288 with 1 Axes>"
            ]
          },
          "metadata": {
            "tags": [],
            "needs_background": "light"
          }
        },
        {
          "output_type": "stream",
          "text": [
            "kha\n"
          ],
          "name": "stdout"
        }
      ]
    },
    {
      "cell_type": "code",
      "metadata": {
        "id": "6cKK0GBUczLI",
        "outputId": "5aee080a-897a-4a57-99d2-01f9af27c121",
        "colab": {
          "base_uri": "https://localhost:8080/",
          "height": 283
        }
      },
      "source": [
        "#greyscale image\n",
        "plt.imshow(np.squeeze(X_test[67]),cmap=matplotlib.cm.binary,interpolation=\"nearest\")\n",
        "plt.show()\n",
        "print(reference.get(int(Y_test[67])))"
      ],
      "execution_count": 16,
      "outputs": [
        {
          "output_type": "display_data",
          "data": {
            "image/png": "[encoded data removed]",
            "text/plain": [
              "<Figure size 432x288 with 1 Axes>"
            ]
          },
          "metadata": {
            "tags": [],
            "needs_background": "light"
          }
        },
        {
          "output_type": "stream",
          "text": [
            "petchiryakha\n"
          ],
          "name": "stdout"
        }
      ]
    },
    {
      "cell_type": "code",
      "metadata": {
        "id": "kU-0OQSdczLK",
        "outputId": "65a98973-20e3-4758-97d6-38fe719b1fce",
        "colab": {
          "base_uri": "https://localhost:8080/",
          "height": 52
        }
      },
      "source": [
        "X_test, X_val, Y_test, Y_val = train_test_split(X_test, Y_test, test_size = 0.6, random_state = 1)\n",
        "print(X_test.shape)\n",
        "print(X_val.shape)"
      ],
      "execution_count": 17,
      "outputs": [
        {
          "output_type": "stream",
          "text": [
            "(7360, 32, 32, 1)\n",
            "(11040, 32, 32, 1)\n"
          ],
          "name": "stdout"
        }
      ]
    },
    {
      "cell_type": "code",
      "metadata": {
        "id": "mk3lj8NKczLN",
        "outputId": "e0c67629-63fd-42e0-ace3-84b66e5d0680",
        "colab": {
          "base_uri": "https://localhost:8080/",
          "height": 34
        }
      },
      "source": [
        "Y_test = to_categorical(Y_test)\n",
        "print(Y_test.shape)"
      ],
      "execution_count": 18,
      "outputs": [
        {
          "output_type": "stream",
          "text": [
            "(7360, 47)\n"
          ],
          "name": "stdout"
        }
      ]
    },
    {
      "cell_type": "code",
      "metadata": {
        "id": "CbobXWMbczLP",
        "outputId": "1662c1bf-c3ec-4a00-fb31-96944391d761",
        "colab": {
          "base_uri": "https://localhost:8080/",
          "height": 34
        }
      },
      "source": [
        "Y_val = to_categorical(Y_val)\n",
        "print(Y_val.shape)"
      ],
      "execution_count": 19,
      "outputs": [
        {
          "output_type": "stream",
          "text": [
            "(11040, 47)\n"
          ],
          "name": "stdout"
        }
      ]
    },
    {
      "cell_type": "code",
      "metadata": {
        "id": "BfqWJfxkczLS",
        "outputId": "e4482f9f-7b6e-466d-f698-fd4571cbae75",
        "colab": {
          "base_uri": "https://localhost:8080/",
          "height": 34
        }
      },
      "source": [
        "Y_train = to_categorical(Y_train)\n",
        "print(Y_train.shape)"
      ],
      "execution_count": 20,
      "outputs": [
        {
          "output_type": "stream",
          "text": [
            "(73600, 47)\n"
          ],
          "name": "stdout"
        }
      ]
    },
    {
      "cell_type": "code",
      "metadata": {
        "id": "7DZbnc2MczLW",
        "outputId": "e10b7722-8f63-480c-84c1-7d712680a5a8",
        "colab": {
          "base_uri": "https://localhost:8080/",
          "height": 603
        }
      },
      "source": [
        "inputs = Input(shape = (32,32,1))\n",
        "conv1 = Conv2D(64, 3, padding='same', activation='relu')(inputs)\n",
        "conv2 = Conv2D(128, 3, padding='same', activation='relu')(conv1)\n",
        "pool2 = MaxPooling2D((2,2))(conv2)\n",
        "conv3 = Conv2D(128, 3, padding='same', activation='relu')(pool2)\n",
        "conv4 = Conv2D(256, 5, padding='same', activation='relu')(conv3)\n",
        "pool4 = MaxPooling2D((2,2))(conv4)\n",
        "conv5 = Conv2D(256, 5, padding='same', activation='relu')(pool4)\n",
        "flat = Flatten()(conv5)\n",
        "dense0 = Dense(512, activation='relu')(flat)\n",
        "dense1 = Dense(128, activation='relu')(dense0)\n",
        "dense2 = Dense(47, activation='softmax')(dense1)\n",
        "\n",
        "model = Model(inputs, dense2)\n",
        "print(model.summary())"
      ],
      "execution_count": 21,
      "outputs": [
        {
          "output_type": "stream",
          "text": [
            "Model: \"functional_1\"\n",
            "_________________________________________________________________\n",
            "Layer (type)                 Output Shape              Param #   \n",
            "=================================================================\n",
            "input_1 (InputLayer)         [(None, 32, 32, 1)]       0         \n",
            "_________________________________________________________________\n",
            "conv2d (Conv2D)              (None, 32, 32, 64)        640       \n",
            "_________________________________________________________________\n",
            "conv2d_1 (Conv2D)            (None, 32, 32, 128)       73856     \n",
            "_________________________________________________________________\n",
            "max_pooling2d (MaxPooling2D) (None, 16, 16, 128)       0         \n",
            "_________________________________________________________________\n",
            "conv2d_2 (Conv2D)            (None, 16, 16, 128)       147584    \n",
            "_________________________________________________________________\n",
            "conv2d_3 (Conv2D)            (None, 16, 16, 256)       819456    \n",
            "_________________________________________________________________\n",
            "max_pooling2d_1 (MaxPooling2 (None, 8, 8, 256)         0         \n",
            "_________________________________________________________________\n",
            "conv2d_4 (Conv2D)            (None, 8, 8, 256)         1638656   \n",
            "_________________________________________________________________\n",
            "flatten (Flatten)            (None, 16384)             0         \n",
            "_________________________________________________________________\n",
            "dense (Dense)                (None, 512)               8389120   \n",
            "_________________________________________________________________\n",
            "dense_1 (Dense)              (None, 128)               65664     \n",
            "_________________________________________________________________\n",
            "dense_2 (Dense)              (None, 47)                6063      \n",
            "=================================================================\n",
            "Total params: 11,141,039\n",
            "Trainable params: 11,141,039\n",
            "Non-trainable params: 0\n",
            "_________________________________________________________________\n",
            "None\n"
          ],
          "name": "stdout"
        }
      ]
    },
    {
      "cell_type": "code",
      "metadata": {
        "id": "Ef1JjIqVczLY",
        "outputId": "a2623e56-d2b5-4577-b211-9e572c8287e0",
        "colab": {
          "base_uri": "https://localhost:8080/",
          "height": 765
        }
      },
      "source": [
        "model.compile(Adam(lr = 10e-4), loss = 'categorical_crossentropy', metrics = ['accuracy'])\n",
        "history = model.fit(X_train, Y_train, epochs = 20, batch_size = 400, validation_data = (X_val, Y_val), verbose = 1)"
      ],
      "execution_count": 22,
      "outputs": [
        {
          "output_type": "stream",
          "text": [
            "Epoch 1/20\n",
            "  2/184 [..............................] - ETA: 10s - loss: 3.8610 - accuracy: 0.0188WARNING:tensorflow:Callbacks method `on_train_batch_end` is slow compared to the batch time (batch time: 0.0090s vs `on_train_batch_end` time: 0.1030s). Check your callbacks.\n",
            "184/184 [==============================] - 22s 118ms/step - loss: 0.7362 - accuracy: 0.7996 - val_loss: 0.1206 - val_accuracy: 0.9644\n",
            "Epoch 2/20\n",
            "184/184 [==============================] - 22s 117ms/step - loss: 0.0746 - accuracy: 0.9773 - val_loss: 0.0730 - val_accuracy: 0.9779\n",
            "Epoch 3/20\n",
            "184/184 [==============================] - 22s 119ms/step - loss: 0.0380 - accuracy: 0.9879 - val_loss: 0.0601 - val_accuracy: 0.9812\n",
            "Epoch 4/20\n",
            "184/184 [==============================] - 22s 122ms/step - loss: 0.0246 - accuracy: 0.9923 - val_loss: 0.0649 - val_accuracy: 0.9829\n",
            "Epoch 5/20\n",
            "184/184 [==============================] - 23s 125ms/step - loss: 0.0196 - accuracy: 0.9941 - val_loss: 0.0593 - val_accuracy: 0.9854\n",
            "Epoch 6/20\n",
            "184/184 [==============================] - 23s 127ms/step - loss: 0.0136 - accuracy: 0.9956 - val_loss: 0.0598 - val_accuracy: 0.9836\n",
            "Epoch 7/20\n",
            "184/184 [==============================] - 23s 127ms/step - loss: 0.0152 - accuracy: 0.9952 - val_loss: 0.0578 - val_accuracy: 0.9861\n",
            "Epoch 8/20\n",
            "184/184 [==============================] - 23s 125ms/step - loss: 0.0127 - accuracy: 0.9959 - val_loss: 0.0649 - val_accuracy: 0.9853\n",
            "Epoch 9/20\n",
            "184/184 [==============================] - 23s 127ms/step - loss: 0.0120 - accuracy: 0.9963 - val_loss: 0.0631 - val_accuracy: 0.9842\n",
            "Epoch 10/20\n",
            "184/184 [==============================] - 23s 127ms/step - loss: 0.0099 - accuracy: 0.9970 - val_loss: 0.0582 - val_accuracy: 0.9854\n",
            "Epoch 11/20\n",
            "184/184 [==============================] - 23s 126ms/step - loss: 0.0082 - accuracy: 0.9975 - val_loss: 0.0733 - val_accuracy: 0.9841\n",
            "Epoch 12/20\n",
            "184/184 [==============================] - 23s 126ms/step - loss: 0.0073 - accuracy: 0.9979 - val_loss: 0.0655 - val_accuracy: 0.9859\n",
            "Epoch 13/20\n",
            "184/184 [==============================] - 23s 126ms/step - loss: 0.0083 - accuracy: 0.9973 - val_loss: 0.0633 - val_accuracy: 0.9860\n",
            "Epoch 14/20\n",
            "184/184 [==============================] - 23s 127ms/step - loss: 0.0082 - accuracy: 0.9975 - val_loss: 0.0671 - val_accuracy: 0.9869\n",
            "Epoch 15/20\n",
            "184/184 [==============================] - 23s 126ms/step - loss: 0.0096 - accuracy: 0.9969 - val_loss: 0.0533 - val_accuracy: 0.9879\n",
            "Epoch 16/20\n",
            "184/184 [==============================] - 23s 126ms/step - loss: 0.0082 - accuracy: 0.9976 - val_loss: 0.0605 - val_accuracy: 0.9855\n",
            "Epoch 17/20\n",
            "184/184 [==============================] - 23s 126ms/step - loss: 0.0064 - accuracy: 0.9980 - val_loss: 0.0690 - val_accuracy: 0.9870\n",
            "Epoch 18/20\n",
            "184/184 [==============================] - 23s 126ms/step - loss: 0.0068 - accuracy: 0.9980 - val_loss: 0.0536 - val_accuracy: 0.9898\n",
            "Epoch 19/20\n",
            "184/184 [==============================] - 23s 125ms/step - loss: 0.0059 - accuracy: 0.9983 - val_loss: 0.0675 - val_accuracy: 0.9862\n",
            "Epoch 20/20\n",
            "184/184 [==============================] - 23s 125ms/step - loss: 0.0065 - accuracy: 0.9982 - val_loss: 0.0474 - val_accuracy: 0.9892\n"
          ],
          "name": "stdout"
        }
      ]
    },
    {
      "cell_type": "code",
      "metadata": {
        "id": "lMOiLp7xczLb",
        "outputId": "ff892f62-b57d-40aa-ee0e-803562bbff09",
        "colab": {
          "base_uri": "https://localhost:8080/",
          "height": 266
        }
      },
      "source": [
        "\n",
        "fig, ax = plt.subplots(2,1)\n",
        "ax[0].plot(history.history['loss'], color='b', label=\"Training loss\")\n",
        "ax[0].plot(history.history['val_loss'], color='r', label=\"validation loss\",axes =ax[0])\n",
        "legend = ax[0].legend(loc='best', shadow=True)\n",
        "\n",
        "ax[1].plot(history.history['accuracy'], color='b', label=\"Training accuracy\")\n",
        "ax[1].plot(history.history['val_accuracy'], color='r',label=\"Validation accuracy\")\n",
        "legend = ax[1].legend(loc='best', shadow=False)"
      ],
      "execution_count": 23,
      "outputs": [
        {
          "output_type": "display_data",
          "data": {
            "image/png": "[encoded data removed]",
            "text/plain": [
              "<Figure size 432x288 with 2 Axes>"
            ]
          },
          "metadata": {
            "tags": [],
            "needs_background": "light"
          }
        }
      ]
    },
    {
      "cell_type": "code",
      "metadata": {
        "id": "VHHdk9yIczLd"
      },
      "source": [
        "model.save(\"/content/drive/My Drive/Model_1.h5\")"
      ],
      "execution_count": 24,
      "outputs": []
    },
    {
      "cell_type": "code",
      "metadata": {
        "id": "1hyK9H7YczLg",
        "outputId": "4a4f6621-d198-4c6b-d058-51b2128e9fdf",
        "colab": {
          "base_uri": "https://localhost:8080/",
          "height": 52
        }
      },
      "source": [
        "model.evaluate(X_test, Y_test, batch_size = 400, verbose =1)"
      ],
      "execution_count": 25,
      "outputs": [
        {
          "output_type": "stream",
          "text": [
            "19/19 [==============================] - 1s 50ms/step - loss: 0.0537 - accuracy: 0.9875\n"
          ],
          "name": "stdout"
        },
        {
          "output_type": "execute_result",
          "data": {
            "text/plain": [
              "[0.0536993108689785, 0.987500011920929]"
            ]
          },
          "metadata": {
            "tags": []
          },
          "execution_count": 25
        }
      ]
    },
    {
      "cell_type": "code",
      "metadata": {
        "id": "aeUqSbGCm4q9",
        "outputId": "c8beb3ba-e352-4d6b-bb60-ef5aec40bb2b",
        "colab": {
          "base_uri": "https://localhost:8080/",
          "height": 72
        }
      },
      "source": [
        "predicted = model.predict(x = X_test, verbose = 1)"
      ],
      "execution_count": 26,
      "outputs": [
        {
          "output_type": "stream",
          "text": [
            "  1/230 [..............................] - ETA: 0sWARNING:tensorflow:Callbacks method `on_predict_batch_end` is slow compared to the batch time (batch time: 0.0016s vs `on_predict_batch_end` time: 0.0031s). Check your callbacks.\n",
            "230/230 [==============================] - 1s 5ms/step\n"
          ],
          "name": "stdout"
        }
      ]
    },
    {
      "cell_type": "code",
      "metadata": {
        "id": "tw4nOxf9o65p",
        "outputId": "51300744-c653-41c0-c42d-133e51b62762",
        "colab": {
          "base_uri": "https://localhost:8080/",
          "height": 34
        }
      },
      "source": [
        "predicted.shape\n"
      ],
      "execution_count": 27,
      "outputs": [
        {
          "output_type": "execute_result",
          "data": {
            "text/plain": [
              "(7360, 47)"
            ]
          },
          "metadata": {
            "tags": []
          },
          "execution_count": 27
        }
      ]
    },
    {
      "cell_type": "code",
      "metadata": {
        "id": "tZB22G0tnKQa",
        "outputId": "112bbfb3-f7ab-4317-cdec-bef181c7dbeb",
        "colab": {
          "base_uri": "https://localhost:8080/",
          "height": 283
        }
      },
      "source": [
        "index = 57\n",
        "img = X_test[index]\n",
        "img = img.reshape((32,32))\n",
        "plt.imshow(img)\n",
        "predicted = np.argmax(predicted, axis = 1)\n",
        "print(reference[predicted[index]])"
      ],
      "execution_count": 28,
      "outputs": [
        {
          "output_type": "stream",
          "text": [
            "jha\n"
          ],
          "name": "stdout"
        },
        {
          "output_type": "display_data",
          "data": {
            "image/png": "[encoded data removed]",
            "text/plain": [
              "<Figure size 432x288 with 1 Axes>"
            ]
          },
          "metadata": {
            "tags": [],
            "needs_background": "light"
          }
        }
      ]
    },
    {
      "cell_type": "markdown",
      "metadata": {
        "id": "SQb3hQqdWpT0"
      },
      "source": [
        "# Second Model"
      ]
    },
    {
      "cell_type": "code",
      "metadata": {
        "id": "bTfHne9_WyAT"
      },
      "source": [
        ""
      ],
      "execution_count": 28,
      "outputs": []
    }
  ]
}